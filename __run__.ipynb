{
 "cells": [
  {
   "cell_type": "code",
   "execution_count": 8,
   "metadata": {},
   "outputs": [
    {
     "name": "stdout",
     "output_type": "stream",
     "text": [
      "Search for an object?>>\n",
      "banana\n",
      "\n",
      "Item no.: 1 --> Item name = banana image with black background\n",
      "Evaluating...\n",
      "Starting Download...\n",
      "\n",
      "Errors: 0\n",
      "\n",
      "({'banana image with black background': []}, 0)\n"
     ]
    },
    {
     "ename": "AttributeError",
     "evalue": "'NoneType' object has no attribute 'shape'",
     "output_type": "error",
     "traceback": [
      "\u001b[1;31m---------------------------------------------------------------------------\u001b[0m",
      "\u001b[1;31mAttributeError\u001b[0m                            Traceback (most recent call last)",
      "Cell \u001b[1;32mIn[8], line 37\u001b[0m\n\u001b[0;32m     34\u001b[0m imgl \u001b[38;5;241m=\u001b[39m cv\u001b[38;5;241m.\u001b[39mimread(imgpath,\u001b[38;5;241m0\u001b[39m)\n\u001b[0;32m     36\u001b[0m \u001b[38;5;66;03m#decreasing image resolution in equal ratio\u001b[39;00m\n\u001b[1;32m---> 37\u001b[0m oheight \u001b[38;5;241m=\u001b[39m \u001b[43mimgl\u001b[49m\u001b[38;5;241;43m.\u001b[39;49m\u001b[43mshape\u001b[49m[\u001b[38;5;241m0\u001b[39m]\n\u001b[0;32m     38\u001b[0m owidth \u001b[38;5;241m=\u001b[39m imgl\u001b[38;5;241m.\u001b[39mshape[\u001b[38;5;241m1\u001b[39m]\n\u001b[0;32m     40\u001b[0m \u001b[38;5;28;01mif\u001b[39;00m owidth\u001b[38;5;241m>\u001b[39moheight:\n",
      "\u001b[1;31mAttributeError\u001b[0m: 'NoneType' object has no attribute 'shape'"
     ]
    }
   ],
   "source": [
    "import sys\n",
    "\n",
    "sys.path.append('C:\\\\Users\\\\DameraSaiAvinash\\\\AppData\\\\Local\\\\Programs\\\\Python\\\\Python310\\\\lib\\\\site-packages')\n",
    "\n",
    "import cv2 as cv\n",
    "import numpy as np\n",
    "import os\n",
    "from google_images_download import google_images_download  \n",
    "\n",
    "print(\"Search for an object?>>\")\n",
    "keywords = input()\n",
    "\n",
    "response = google_images_download.googleimagesdownload()\n",
    "\n",
    "keywords = keywords + \" image with black background\"\n",
    "arguments = {\"keywords\":keywords,\"limit\":1,\"print_urls\":True}\n",
    "paths = response.download(arguments)\n",
    "print(paths)\n",
    "\n",
    "path = 'C://Users//AkaiShuichi//Documents//majprojtest//Downloads'\n",
    "\n",
    "files = []\n",
    "imgpath = \"\"\n",
    "\n",
    "for r, d, f in os.walk(path):\n",
    "    for file in f:\n",
    "        if '.jpg' in file:\n",
    "            files.append(os.path.join(r, file))\n",
    "\n",
    "if files:\n",
    "    imgpath = files[0]\n",
    "    \n",
    "\n",
    "imgl = cv.imread(imgpath,0)\n",
    "\n",
    "#decreasing image resolution in equal ratio\n",
    "oheight = imgl.shape[0]\n",
    "owidth = imgl.shape[1]\n",
    "\n",
    "if owidth>oheight:\n",
    "    width = 350\n",
    "    height = (oheight * width)//owidth\n",
    "\n",
    "else:\n",
    "    height = 350\n",
    "    width = (owidth * height)//oheight\n",
    "\n",
    "img = cv.resize(imgl,(int(width),int(height)))\n",
    "smooth = cv.blur(img,(5,5))\n",
    "\n",
    "obj = open('C://Users//AkaiShuichi//Documents//majprojtest//object.obj','w+')\n",
    "\n",
    "obj.write(\"# Created for mini project - OBJ File\\n\")\n",
    "obj.write(\"# 509\\n\\n\")\n",
    "obj.write('o customobject.obj\\n')\n",
    "\n",
    "\n",
    "#format(img[y][x],img[y][x+1],img[y+1][x],img[y+1][x+1])\n",
    "average = np.average(smooth)\n",
    "\n",
    "def estimate(x):\n",
    "#     if x > average: return int(average)\n",
    "#     if x > 50 and x<100: return x//3\n",
    "#     elif x >100 and x<150: return x//4\n",
    "#     elif x >150 and x<200: return x//5\n",
    "#     elif x>200 and x<255: return x//6   \n",
    "#     else: return x//2\n",
    "    \n",
    "     return x//3\n",
    "\n",
    "for i in range(0,height):\n",
    "    for j in range(0,width):\n",
    "        obj.write(\"v {} {} {} \\n\".format(float(i),float(j),int(estimate(smooth[i][j]))))    \n",
    "     \n",
    "obj.write(\"\\n\\n\\n\") \n",
    "obj.write(\"#faces for the obj file\\n\") \n",
    "obj.write(\"usemtl None\\ns off\\n\") \n",
    "\n",
    "ar = np.zeros(shape=(height,width))\n",
    "\n",
    "k=0\n",
    "for i in range(0,height):\n",
    "    for j in range(0,width):\n",
    "        k=k+1\n",
    "        ar[i][j]=k\n",
    "\n",
    "         \n",
    "for i in range(0,height-1):\n",
    "    for j in range(0,width-1):\n",
    "        obj.write(\"f {} {} {} {} \\n\".format(int(ar[i][j]),int(ar[i+1][j]),int(ar[i+1][j+1]),int(ar[i][j+1])))\n",
    "        #print(ar[i][j],ar[i+1][j],ar[i][j+1],ar[i+1][j+1])\n",
    "        \n",
    "\n",
    "obj.close()\n",
    "\n",
    "print(\"object formed successfully! at path C://Users//AkaiShuichi//Documents//GitHub//saiavinashdamera.github.io//assets//object.obj\")\n",
    "print(\"Please try to view it in a .obj parser\")"
   ]
  },
  {
   "cell_type": "code",
   "execution_count": 3,
   "metadata": {},
   "outputs": [
    {
     "ename": "NameError",
     "evalue": "name 'os' is not defined",
     "output_type": "error",
     "traceback": [
      "\u001b[1;31m---------------------------------------------------------------------------\u001b[0m",
      "\u001b[1;31mNameError\u001b[0m                                 Traceback (most recent call last)",
      "Cell \u001b[1;32mIn[3], line 7\u001b[0m\n\u001b[0;32m      2\u001b[0m \u001b[38;5;28;01mimport\u001b[39;00m \u001b[38;5;21;01mshutil\u001b[39;00m\n\u001b[0;32m      5\u001b[0m folder \u001b[38;5;241m=\u001b[39m \u001b[38;5;124m\"\u001b[39m\u001b[38;5;124mC:\u001b[39m\u001b[38;5;130;01m\\\\\u001b[39;00m\u001b[38;5;124mUsers\u001b[39m\u001b[38;5;130;01m\\\\\u001b[39;00m\u001b[38;5;124mAkaiShuichi\u001b[39m\u001b[38;5;130;01m\\\\\u001b[39;00m\u001b[38;5;124mDesktop\u001b[39m\u001b[38;5;130;01m\\\\\u001b[39;00m\u001b[38;5;124mProject files\u001b[39m\u001b[38;5;130;01m\\\\\u001b[39;00m\u001b[38;5;124mdownloads\u001b[39m\u001b[38;5;124m\"\u001b[39m\n\u001b[1;32m----> 7\u001b[0m \u001b[38;5;28;01mfor\u001b[39;00m \u001b[38;5;28mdir\u001b[39m \u001b[38;5;129;01min\u001b[39;00m \u001b[43mos\u001b[49m\u001b[38;5;241m.\u001b[39mlistdir(folder):\n\u001b[0;32m      8\u001b[0m     shutil\u001b[38;5;241m.\u001b[39mrmtree(os\u001b[38;5;241m.\u001b[39mpath\u001b[38;5;241m.\u001b[39mjoin(folder,\u001b[38;5;28mdir\u001b[39m))\n\u001b[0;32m     10\u001b[0m \u001b[38;5;28mprint\u001b[39m(\u001b[38;5;124m\"\u001b[39m\u001b[38;5;124mFile Removed!\u001b[39m\u001b[38;5;124m\"\u001b[39m)\n",
      "\u001b[1;31mNameError\u001b[0m: name 'os' is not defined"
     ]
    }
   ],
   "source": [
    "#remove the image cache by pressing shift+enter\n",
    "import shutil\n",
    "\n",
    "\n",
    "folder = \"C:\\\\Users\\\\AkaiShuichi\\\\Desktop\\\\Project files\\\\downloads\"\n",
    "\n",
    "for dir in os.listdir(folder):\n",
    "    shutil.rmtree(os.path.join(folder,dir))\n",
    "\n",
    "print(\"File Removed!\")"
   ]
  },
  {
   "cell_type": "code",
   "execution_count": null,
   "metadata": {},
   "outputs": [],
   "source": []
  }
 ],
 "metadata": {
  "kernelspec": {
   "display_name": "Python 3 (ipykernel)",
   "language": "python",
   "name": "python3"
  },
  "language_info": {
   "codemirror_mode": {
    "name": "ipython",
    "version": 3
   },
   "file_extension": ".py",
   "mimetype": "text/x-python",
   "name": "python",
   "nbconvert_exporter": "python",
   "pygments_lexer": "ipython3",
   "version": "3.10.9"
  }
 },
 "nbformat": 4,
 "nbformat_minor": 2
}
